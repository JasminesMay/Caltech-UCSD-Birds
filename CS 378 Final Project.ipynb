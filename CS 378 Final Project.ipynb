{
 "cells": [
  {
   "cell_type": "code",
   "execution_count": 117,
   "metadata": {
    "collapsed": true
   },
   "outputs": [],
   "source": [
    "import tensorflow as tf\n",
    "import numpy as np\n",
    "from PIL import Image\n",
    "\n",
    "num_classes = 200"
   ]
  },
  {
   "cell_type": "code",
   "execution_count": 141,
   "metadata": {},
   "outputs": [
    {
     "name": "stdout",
     "output_type": "stream",
     "text": [
      "[<tf.Tensor 'network/Reshape:0' shape=(200,) dtype=float32>, <tf.Tensor 'network/Reshape_1:0' shape=(200,) dtype=float32>, <tf.Tensor 'network/Reshape_2:0' shape=(200,) dtype=float32>, <tf.Tensor 'network/Reshape_3:0' shape=(200,) dtype=float32>, <tf.Tensor 'network/Reshape_4:0' shape=(200,) dtype=float32>, <tf.Tensor 'network/Reshape_5:0' shape=(200,) dtype=float32>, <tf.Tensor 'network/Reshape_6:0' shape=(200,) dtype=float32>, <tf.Tensor 'network/Reshape_7:0' shape=(200,) dtype=float32>, <tf.Tensor 'network/Reshape_8:0' shape=(200,) dtype=float32>, <tf.Tensor 'network/Reshape_9:0' shape=(200,) dtype=float32>, <tf.Tensor 'network/Reshape_10:0' shape=(200,) dtype=float32>, <tf.Tensor 'network/Reshape_11:0' shape=(200,) dtype=float32>, <tf.Tensor 'network/Reshape_12:0' shape=(200,) dtype=float32>, <tf.Tensor 'network/Reshape_13:0' shape=(200,) dtype=float32>, <tf.Tensor 'network/Reshape_14:0' shape=(200,) dtype=float32>, <tf.Tensor 'network/Reshape_15:0' shape=(200,) dtype=float32>, <tf.Tensor 'network/Reshape_16:0' shape=(200,) dtype=float32>, <tf.Tensor 'network/Reshape_17:0' shape=(200,) dtype=float32>, <tf.Tensor 'network/Reshape_18:0' shape=(200,) dtype=float32>, <tf.Tensor 'network/Reshape_19:0' shape=(200,) dtype=float32>, <tf.Tensor 'network/Reshape_20:0' shape=(200,) dtype=float32>, <tf.Tensor 'network/Reshape_21:0' shape=(200,) dtype=float32>, <tf.Tensor 'network/Reshape_22:0' shape=(200,) dtype=float32>, <tf.Tensor 'network/Reshape_23:0' shape=(200,) dtype=float32>, <tf.Tensor 'network/Reshape_24:0' shape=(200,) dtype=float32>, <tf.Tensor 'network/Reshape_25:0' shape=(200,) dtype=float32>, <tf.Tensor 'network/Reshape_26:0' shape=(200,) dtype=float32>, <tf.Tensor 'network/Reshape_27:0' shape=(200,) dtype=float32>, <tf.Tensor 'network/Reshape_28:0' shape=(200,) dtype=float32>, <tf.Tensor 'network/Reshape_29:0' shape=(200,) dtype=float32>]\n",
      "[1, 1, 1, 1, 1, 1, 1, 1, 1, 1, 1, 1, 1, 1, 1, 1, 1, 1, 1, 1, 1, 1, 1, 1, 1, 1, 1, 1, 1, 1]\n",
      "Total number of variables used:  40363\n"
     ]
    }
   ],
   "source": [
    "# todo: use tf.contrib.layers.conv2d for 3D filter\n",
    "def conv_relu(input, kernel_shape, bias_shape, stride = 2):\n",
    "    strides = [stride, stride, stride, stride]\n",
    "    weights = tf.get_variable(\"weights\", kernel_shape, initializer=tf.random_normal_initializer())\n",
    "    biases = tf.get_variable(\"biases\", bias_shape, initializer=tf.constant_initializer(0.0))\n",
    "    conv = tf.nn.conv2d(input, weights, strides=strides, padding='SAME')\n",
    "    return tf.nn.relu(conv + biases)\n",
    "\n",
    "def conv_layers(input_image):\n",
    "    # Variables created here will be named \"convX/weights\", \"convX/biases\".\n",
    "    with tf.variable_scope(\"conv1\"):\n",
    "        out_channels = 15\n",
    "        output = conv_relu(input_image, [5, 5, 3, out_channels], [out_channels], stride=1)\n",
    "    with tf.variable_scope(\"conv2\"):\n",
    "        old_out_channels = out_channels\n",
    "        out_channels = 20\n",
    "        output = conv_relu(output, [5, 5, old_out_channels, out_channels], [out_channels])\n",
    "    with tf.variable_scope(\"conv3\"):\n",
    "        old_out_channels = out_channels\n",
    "        out_channels = 3\n",
    "        return conv_relu(output, [5, 5, old_out_channels, out_channels], [out_channels])\n",
    "    \n",
    "# https://github.com/tensorflow/tensorflow/issues/6011\n",
    "def spp_layer(image, levels=[6, 3, 2, 1]):\n",
    "    shape = image.get_shape().as_list()\n",
    "    if shape[1] < levels[0] ** 2 or shape[2] < levels[0] ** 2:\n",
    "        print(shape)\n",
    "        print('Size must be greater than {:d}x{:d}'.format(levels[0], levels[0]))\n",
    "        return None\n",
    "\n",
    "    with tf.variable_scope('spp'):\n",
    "        pool_outputs = []\n",
    "        for level in levels:\n",
    "            # todo: figure out why it is surrounded by 1\n",
    "            window_size = [1] + [np.ceil(d / level).astype(np.int32) for d in shape[1:3]] + [1]\n",
    "            strides = [1] + [np.floor(d / level + 1).astype(np.int32) for d in shape[1:3]] + [1]\n",
    "            \n",
    "            pool = tf.nn.max_pool(image, ksize=window_size, strides=strides, padding='SAME')\n",
    "            pool_outputs.append(tf.reshape(pool, [shape[0], -1]))\n",
    "        spp_pool = tf.concat(pool_outputs, axis=1)\n",
    "    return spp_pool\n",
    "\n",
    "def fc_layer(image, reuse):\n",
    "    return tf.contrib.layers.fully_connected(image, num_classes, activation_fn=None, scope=\"fc\", reuse=reuse)\n",
    "    \n",
    "tf.reset_default_graph()\n",
    "\n",
    "def load(filename):\n",
    "    file = open(filename, \"r\") \n",
    "    image_names = file.readlines()\n",
    "    images = []\n",
    "    labels = []\n",
    "    counter = 1\n",
    "    with tf.variable_scope(\"network\") as scope:\n",
    "        fc_reuse = False\n",
    "        for name in image_names:\n",
    "            label = int(name[:3])\n",
    "            if label <= 1:\n",
    "                im = Image.open(\"images/\" + name.rstrip('\\n'))\n",
    "                H, W = im.size\n",
    "                pixels = list(im.getdata())\n",
    "                image = np.array([comp for pixel in pixels for comp in pixel]).reshape(-1, H, W, 3)\n",
    "                image = tf.convert_to_tensor(image)\n",
    "                image = tf.to_float(image)\n",
    "                image = conv_layers(image)\n",
    "                image = spp_layer(image)\n",
    "                if not image is None:\n",
    "                    image = fc_layer(image, fc_reuse)\n",
    "                    image = tf.reshape(image, [-1])\n",
    "                    images.append(image)\n",
    "                    labels.append(label)\n",
    "                    fc_reuse = True\n",
    "\n",
    "                scope.reuse_variables()\n",
    "#                 if counter >= 15:\n",
    "#                     break\n",
    "#                 counter += 1\n",
    "\n",
    "    print(images)\n",
    "    print(labels)\n",
    "    return tf.convert_to_tensor(images), labels\n",
    "\n",
    "images, labels = load('train.txt')\n",
    "print( \"Total number of variables used: \", np.sum([v.get_shape().num_elements() for v in tf.trainable_variables()]) )"
   ]
  },
  {
   "cell_type": "code",
   "execution_count": 136,
   "metadata": {},
   "outputs": [
    {
     "name": "stdout",
     "output_type": "stream",
     "text": [
      "Tensor(\"packed:0\", shape=(30, 200), dtype=float32)\n"
     ]
    }
   ],
   "source": [
    "print()"
   ]
  },
  {
   "cell_type": "code",
   "execution_count": null,
   "metadata": {
    "collapsed": true
   },
   "outputs": [],
   "source": [
    "# FAILED SPPs\n",
    "# # https://github.com/tensorflow/tensorflow/issues/6011\n",
    "# def spp_layer(image, levels=[6, 3, 2, 1], name = 'SPP_layer'):\n",
    "#     shape = image.get_shape()[1:3].as_list()\n",
    "#     with tf.variable_scope(name):\n",
    "#         pool_outputs = []\n",
    "#         print(image.shape)\n",
    "#         for level in levels:\n",
    "#             window_size = [np.ceil(d / level).astype(np.int32) for d in shape]\n",
    "#             strides = [np.floor(d / level + 1).astype(np.int32) for d in shape]\n",
    "            \n",
    "#             # todo: figure out why it is surrounded by 1 \n",
    "#             ksize = [1, window_size[0], window_size[1], 1]\n",
    "#             strides = [1, strides[0], strides[1], 1]\n",
    "            \n",
    "#             print(ksize)\n",
    "#             print(strides)\n",
    "            \n",
    "#             pool = tf.nn.max_pool(image, ksize=ksize, strides=strides, padding='SAME')\n",
    "#             pool_outputs.append(tf.reshape(pool, [shape[0], -1]))\n",
    "#         spp_pool = tf.concat(pool_outputs, axis=1)\n",
    "#         print(spp_pool)\n",
    "#     return spp_pool\n",
    "\n",
    "# # https://github.com/tensorflow/tensorflow/issues/6011\n",
    "# def spp_layer(image, levels=[6, 3, 2, 1], name = 'SPP_layer'):\n",
    "#     shape = image.get_shape().as_list()\n",
    "#     with tf.variable_scope(name):\n",
    "#         pool_outputs = []\n",
    "#         for level in levels:\n",
    "#             # todo: figure out why it is surrounded by 1 \n",
    "#             window_size = [1] + [np.ceil(d / level).astype(np.int32) for d in shape[1:3]] + [1]\n",
    "#             strides = [1, np.floor(shape[1] / level + 1).astype(np.int32), np.floor(shape[2] / level + 1), 1]\n",
    "            \n",
    "#             pool = tf.nn.max_pool(image, ksize=window_size, strides=strides, padding='SAME')\n",
    "#             pool_outputs.append(tf.reshape(pool, [shape[0], -1]))\n",
    "#         spp_pool = tf.concat(pool_outputs, axis=1)\n",
    "#     return spp_pool\n",
    "\n",
    "# MISC\n",
    "\n",
    "# def conv_layers(input_image):\n",
    "#     # Variables created here will be named \"convX/weights\", \"convX/biases\".\n",
    "#     with tf.variable_scope(\"conv1\"):\n",
    "#         out_channels = 10\n",
    "#         output = conv_relu(input_image, [15, 15, 3, out_channels], [out_channels])\n",
    "#     with tf.variable_scope(\"conv2\"):\n",
    "#         old_out_channels = out_channels\n",
    "#         out_channels = 15\n",
    "#         output = conv_relu(output, [5, 5, old_out_channels, out_channels], [out_channels])\n",
    "#     with tf.variable_scope(\"conv3\"):\n",
    "#         old_out_channels = out_channels\n",
    "#         out_channels = 15\n",
    "#         output = conv_relu(output, [5, 5, old_out_channels, out_channels], [out_channels])\n",
    "#     with tf.variable_scope(\"conv4\"):\n",
    "#         old_out_channels = out_channels\n",
    "#         out_channels = 3\n",
    "#         return conv_relu(output, [5, 5, old_out_channels, out_channels], [out_channel"
   ]
  }
 ],
 "metadata": {
  "kernelspec": {
   "display_name": "Python 3",
   "language": "python",
   "name": "python3"
  },
  "language_info": {
   "codemirror_mode": {
    "name": "ipython",
    "version": 3
   },
   "file_extension": ".py",
   "mimetype": "text/x-python",
   "name": "python",
   "nbconvert_exporter": "python",
   "pygments_lexer": "ipython3",
   "version": "3.6.1"
  }
 },
 "nbformat": 4,
 "nbformat_minor": 2
}
